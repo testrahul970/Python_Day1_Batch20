{
 "cells": [
  {
   "cell_type": "code",
   "execution_count": 1,
   "metadata": {},
   "outputs": [
    {
     "name": "stdout",
     "output_type": "stream",
     "text": [
      "rahul chavan\n"
     ]
    }
   ],
   "source": [
    "full_name=\"rahul chavan\" # this is my full name\n",
    "print(full_name)"
   ]
  },
  {
   "cell_type": "code",
   "execution_count": 2,
   "metadata": {},
   "outputs": [
    {
     "name": "stdout",
     "output_type": "stream",
     "text": [
      "Rahul Chavan\n"
     ]
    }
   ],
   "source": [
    "print(full_name.title()) # this title case will make sure the first letter of the word will be in CAPS"
   ]
  },
  {
   "cell_type": "code",
   "execution_count": 3,
   "metadata": {},
   "outputs": [
    {
     "name": "stdout",
     "output_type": "stream",
     "text": [
      "RAHUL CHAVAN\n"
     ]
    }
   ],
   "source": [
    "print(full_name.upper()) # this title case will make sure the string will be in CAPS"
   ]
  },
  {
   "cell_type": "code",
   "execution_count": 4,
   "metadata": {},
   "outputs": [
    {
     "name": "stdout",
     "output_type": "stream",
     "text": [
      "rahul chavan\n"
     ]
    }
   ],
   "source": [
    "print(full_name.lower()) # this title case will make sure the string will be in LOWER CASE"
   ]
  },
  {
   "cell_type": "code",
   "execution_count": null,
   "metadata": {},
   "outputs": [],
   "source": []
  },
  {
   "cell_type": "code",
   "execution_count": 5,
   "metadata": {},
   "outputs": [
    {
     "name": "stdout",
     "output_type": "stream",
     "text": [
      "f{first_name} {last_name}\n"
     ]
    }
   ],
   "source": [
    "\n"
   ]
  },
  {
   "cell_type": "code",
   "execution_count": 6,
   "metadata": {},
   "outputs": [
    {
     "ename": "SyntaxError",
     "evalue": "invalid syntax (<ipython-input-6-730ec5cab975>, line 4)",
     "output_type": "error",
     "traceback": [
      "\u001b[1;36m  File \u001b[1;32m\"<ipython-input-6-730ec5cab975>\"\u001b[1;36m, line \u001b[1;32m4\u001b[0m\n\u001b[1;33m    full_name=f {first_name} {last_name}\" # f string is used to format the strings, here the first name and last name will be seen when we print full name\u001b[0m\n\u001b[1;37m                ^\u001b[0m\n\u001b[1;31mSyntaxError\u001b[0m\u001b[1;31m:\u001b[0m invalid syntax\n"
     ]
    }
   ],
   "source": [
    "\n"
   ]
  },
  {
   "cell_type": "code",
   "execution_count": 7,
   "metadata": {},
   "outputs": [
    {
     "ename": "SyntaxError",
     "evalue": "invalid syntax (<ipython-input-7-2749babe2309>, line 4)",
     "output_type": "error",
     "traceback": [
      "\u001b[1;36m  File \u001b[1;32m\"<ipython-input-7-2749babe2309>\"\u001b[1;36m, line \u001b[1;32m4\u001b[0m\n\u001b[1;33m    full_name=f \"{first_name} {last_name}\" # f string is used to format the strings, here the first name and last name will be seen when we print full name\u001b[0m\n\u001b[1;37m                                         ^\u001b[0m\n\u001b[1;31mSyntaxError\u001b[0m\u001b[1;31m:\u001b[0m invalid syntax\n"
     ]
    }
   ],
   "source": [
    "first_name=\"rahul\" # this is the candidates first name\n",
    "last_name=\"chavan\" # this is the candidates last name\n",
    "\n",
    "full_name=f \"{first_name} {last_name}\" # f string is used to format the strings, here the first name and last name will be seen when we print full name\n",
    "print(full_name)"
   ]
  },
  {
   "cell_type": "code",
   "execution_count": 8,
   "metadata": {},
   "outputs": [
    {
     "ename": "SyntaxError",
     "evalue": "invalid syntax (<ipython-input-8-2749babe2309>, line 4)",
     "output_type": "error",
     "traceback": [
      "\u001b[1;36m  File \u001b[1;32m\"<ipython-input-8-2749babe2309>\"\u001b[1;36m, line \u001b[1;32m4\u001b[0m\n\u001b[1;33m    full_name=f \"{first_name} {last_name}\" # f string is used to format the strings, here the first name and last name will be seen when we print full name\u001b[0m\n\u001b[1;37m                                         ^\u001b[0m\n\u001b[1;31mSyntaxError\u001b[0m\u001b[1;31m:\u001b[0m invalid syntax\n"
     ]
    }
   ],
   "source": [
    "first_name=\"rahul\" # this is the candidates first name\n",
    "last_name=\"chavan\" # this is the candidates last name\n",
    "\n",
    "full_name=f \"{first_name} {last_name}\" # f string is used to format the strings, here the first name and last name will be seen when we print full name\n",
    "print(full_name)"
   ]
  },
  {
   "cell_type": "code",
   "execution_count": 9,
   "metadata": {},
   "outputs": [
    {
     "name": "stdout",
     "output_type": "stream",
     "text": [
      "rahul chavan\n"
     ]
    }
   ],
   "source": [
    "first_name=\"rahul\" # this is the candidates first name\n",
    "last_name=\"chavan\" # this is the candidates last name\n",
    "\n",
    "full_name = f\"{first_name} {last_name}\" # f string is used to format the strings, here the first name and last name will be seen when we print full name\n",
    "print(full_name)"
   ]
  },
  {
   "cell_type": "code",
   "execution_count": 11,
   "metadata": {},
   "outputs": [
    {
     "name": "stdout",
     "output_type": "stream",
     "text": [
      "Rahul Chavan\n"
     ]
    }
   ],
   "source": [
    "first_name=\"rahul\" # this is the candidates first name\n",
    "last_name=\"chavan\" # this is the candidates last name\n",
    "\n",
    "full_name=f\"{first_name} {last_name}\" # f string is used to format the strings, here the first name and last name will be seen when we print full name\n",
    "print(full_name.title())"
   ]
  },
  {
   "cell_type": "code",
   "execution_count": 12,
   "metadata": {},
   "outputs": [
    {
     "name": "stdout",
     "output_type": "stream",
     "text": [
      "You Are A Smart Worker,Rahulchavan\n"
     ]
    }
   ],
   "source": [
    "message = f\"you are a smart worker,{first_name}{last_name}\"\n",
    "print(message.title())"
   ]
  },
  {
   "cell_type": "code",
   "execution_count": 13,
   "metadata": {},
   "outputs": [
    {
     "name": "stdout",
     "output_type": "stream",
     "text": [
      "you are a smart worker,rahul chavan\n"
     ]
    }
   ],
   "source": [
    "message = f\"you are a smart worker,{first_name} {last_name}\"\n",
    "print(message)"
   ]
  },
  {
   "cell_type": "code",
   "execution_count": null,
   "metadata": {},
   "outputs": [],
   "source": []
  }
 ],
 "metadata": {
  "kernelspec": {
   "display_name": "Python 3",
   "language": "python",
   "name": "python3"
  },
  "language_info": {
   "codemirror_mode": {
    "name": "ipython",
    "version": 3
   },
   "file_extension": ".py",
   "mimetype": "text/x-python",
   "name": "python",
   "nbconvert_exporter": "python",
   "pygments_lexer": "ipython3",
   "version": "3.7.6"
  }
 },
 "nbformat": 4,
 "nbformat_minor": 4
}
